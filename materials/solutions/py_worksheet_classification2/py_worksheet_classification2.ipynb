{
 "cells": [
  {
   "cell_type": "markdown",
   "metadata": {
    "deletable": true,
    "editable": true,
    "nbgrader": {
     "cell_type": "markdown",
     "checksum": "ce3fc2f7fe8c4446d8bd7fb16e7587a6",
     "grade": false,
     "grade_id": "cell-83e402ae256bacca",
     "locked": false,
     "schema_version": 3,
     "solution": false
    }
   },
   "source": [
    "# Worksheet - Classification (Part II)\n",
    "\n",
    "## Learning Goals:\n",
    "\n",
    "After completing this workshop session, you will be able to:\n",
    "\n",
    "* Describe what a test data set is and how it is used in classification.\n",
    "* Understand several ways of representing classifier performance: accuracy, precision, and recall, and the confusion matrix.\n",
    "* Using Python, evaluate classifier performance using a test data set and appropriate metrics.\n",
    "* Using Python, execute cross-validation in Python to choose the number of neighbours.\n",
    "* Identify when it is necessary to scale variables before classification and do this using Python\n",
    "* In a dataset with > 2 attributes, perform k-nearest neighbour classification in Python using the `scikit-learn` package to predict the class of a test dataset.\n",
    "* Describe advantages and disadvantages of the k-nearest neighbour classification algorithm.\n",
    "\n",
    "This worksheet covers parts of [Chapter 6](https://python.datasciencebook.ca/classification2) of the online textbook. You can refer to and read this chapter to help you answer the worksheet. Any place you see `___`, you must fill in the function, variable, or data to complete the code before running the cell."
   ]
  },
  {
   "cell_type": "code",
   "execution_count": 1,
   "metadata": {
    "deletable": true,
    "editable": true,
    "nbgrader": {
     "cell_type": "code",
     "checksum": "492c0919a51f6fe3859c14f2af85c265",
     "grade": false,
     "grade_id": "cell-e3518ed3d64fb67c",
     "locked": false,
     "schema_version": 3,
     "solution": false
    }
   },
   "outputs": [],
   "source": [
    "### Run this cell before continuing.\n",
    "import altair as alt\n",
    "import numpy as np\n",
    "import pandas as pd\n",
    "from sklearn import set_config\n",
    "from sklearn.compose import make_column_transformer, ColumnTransformer\n",
    "from sklearn.metrics.pairwise import euclidean_distances\n",
    "from sklearn.model_selection import (\n",
    "    GridSearchCV,\n",
    "    RandomizedSearchCV,\n",
    "    cross_validate,\n",
    "    train_test_split,\n",
    ")\n",
    "from sklearn.neighbors import KNeighborsClassifier\n",
    "from sklearn.pipeline import make_pipeline\n",
    "from sklearn.preprocessing import StandardScaler\n",
    "from sklearn.metrics import precision_score, recall_score\n",
    "from sklearn.metrics import ConfusionMatrixDisplay\n",
    "\n",
    "# Simplify working with large datasets in Altair\n",
    "alt.data_transformers.disable_max_rows()\n",
    "\n",
    "# Output dataframes instead of arrays\n",
    "set_config(transform_output=\"pandas\")"
   ]
  },
  {
   "cell_type": "markdown",
   "metadata": {
    "deletable": true,
    "editable": true,
    "nbgrader": {
     "cell_type": "markdown",
     "checksum": "bdeca2f54241b43f374f8c841ee0afc7",
     "grade": false,
     "grade_id": "cell-0ae53a5320742a59",
     "locked": false,
     "schema_version": 3,
     "solution": false,
     "task": false
    }
   },
   "source": [
    "## 1. Fruit Data Example\n",
    "\n",
    "In the agricultural industry, cleaning, sorting, grading, and packaging food products are all necessary tasks in the post-harvest process. Products are classified based on appearance, size and shape, attributes which helps determine the quality of the food. Sorting can be done by humans, but it is tedious and time consuming. Automatic sorting could help save time and money. Images of the food products are captured and analysed to determine visual characteristics. \n",
    "\n",
    "The [dataset](https://www.kaggle.com/mjamilmoughal/k-nearest-neighbor-classifier-to-predict-fruits/notebook) contains observations of fruit described with four features: (1) mass (in g), (2) width (in cm), (3) height (in cm), and (4) color score (on a scale from 0 - 1).\n",
    "\n",
    "To get started building a classifier that can classfiy a fruit based on its appearance, use `pd.read_csv` to load the file `fruit_data.csv` (found in the data folder) from the previous tutorial into your notebook.\n",
    "\n",
    "*Assign your data to an object called `fruit_data`.*"
   ]
  },
  {
   "cell_type": "code",
   "execution_count": 2,
   "metadata": {
    "deletable": true,
    "nbgrader": {}
   },
   "outputs": [],
   "source": [
    "# Run this cell to read the data\n",
    "fruit_data = pd.read_csv(\"data/fruit_data.csv\")"
   ]
  },
  {
   "cell_type": "markdown",
   "metadata": {
    "deletable": true,
    "editable": true,
    "nbgrader": {
     "cell_type": "markdown",
     "checksum": "561a15a05a929a995640793bdf16f4c8",
     "grade": false,
     "grade_id": "cell-9691b09f8cd7044c",
     "locked": false,
     "schema_version": 3,
     "solution": false,
     "task": false
    }
   },
   "source": [
    "Let's take a look at the first few observations in the fruit dataset. Run the cell below."
   ]
  },
  {
   "cell_type": "code",
   "execution_count": 3,
   "metadata": {
    "deletable": true,
    "editable": true,
    "nbgrader": {
     "cell_type": "code",
     "checksum": "f4f469982bf1cca15567b6e44725df2f",
     "grade": false,
     "grade_id": "cell-19eb282d44a51d90",
     "locked": false,
     "schema_version": 3,
     "solution": false,
     "task": false
    }
   },
   "outputs": [
    {
     "data": {
      "text/html": [
       "<div>\n",
       "<style scoped>\n",
       "    .dataframe tbody tr th:only-of-type {\n",
       "        vertical-align: middle;\n",
       "    }\n",
       "\n",
       "    .dataframe tbody tr th {\n",
       "        vertical-align: top;\n",
       "    }\n",
       "\n",
       "    .dataframe thead th {\n",
       "        text-align: right;\n",
       "    }\n",
       "</style>\n",
       "<table border=\"1\" class=\"dataframe\">\n",
       "  <thead>\n",
       "    <tr style=\"text-align: right;\">\n",
       "      <th></th>\n",
       "      <th>fruit_label</th>\n",
       "      <th>fruit_name</th>\n",
       "      <th>fruit_subtype</th>\n",
       "      <th>mass</th>\n",
       "      <th>width</th>\n",
       "      <th>height</th>\n",
       "      <th>color_score</th>\n",
       "    </tr>\n",
       "  </thead>\n",
       "  <tbody>\n",
       "    <tr>\n",
       "      <th>0</th>\n",
       "      <td>1</td>\n",
       "      <td>apple</td>\n",
       "      <td>granny_smith</td>\n",
       "      <td>192</td>\n",
       "      <td>8.4</td>\n",
       "      <td>7.3</td>\n",
       "      <td>0.55</td>\n",
       "    </tr>\n",
       "    <tr>\n",
       "      <th>1</th>\n",
       "      <td>1</td>\n",
       "      <td>apple</td>\n",
       "      <td>granny_smith</td>\n",
       "      <td>180</td>\n",
       "      <td>8.0</td>\n",
       "      <td>6.8</td>\n",
       "      <td>0.59</td>\n",
       "    </tr>\n",
       "    <tr>\n",
       "      <th>2</th>\n",
       "      <td>1</td>\n",
       "      <td>apple</td>\n",
       "      <td>granny_smith</td>\n",
       "      <td>176</td>\n",
       "      <td>7.4</td>\n",
       "      <td>7.2</td>\n",
       "      <td>0.60</td>\n",
       "    </tr>\n",
       "    <tr>\n",
       "      <th>3</th>\n",
       "      <td>2</td>\n",
       "      <td>mandarin</td>\n",
       "      <td>mandarin</td>\n",
       "      <td>86</td>\n",
       "      <td>6.2</td>\n",
       "      <td>4.7</td>\n",
       "      <td>0.80</td>\n",
       "    </tr>\n",
       "    <tr>\n",
       "      <th>4</th>\n",
       "      <td>2</td>\n",
       "      <td>mandarin</td>\n",
       "      <td>mandarin</td>\n",
       "      <td>84</td>\n",
       "      <td>6.0</td>\n",
       "      <td>4.6</td>\n",
       "      <td>0.79</td>\n",
       "    </tr>\n",
       "  </tbody>\n",
       "</table>\n",
       "</div>"
      ],
      "text/plain": [
       "   fruit_label fruit_name fruit_subtype  mass  width  height  color_score\n",
       "0            1      apple  granny_smith   192    8.4     7.3         0.55\n",
       "1            1      apple  granny_smith   180    8.0     6.8         0.59\n",
       "2            1      apple  granny_smith   176    7.4     7.2         0.60\n",
       "3            2   mandarin      mandarin    86    6.2     4.7         0.80\n",
       "4            2   mandarin      mandarin    84    6.0     4.6         0.79"
      ]
     },
     "execution_count": 3,
     "metadata": {},
     "output_type": "execute_result"
    }
   ],
   "source": [
    "# Run this cell to preview the data\n",
    "fruit_data.head()"
   ]
  },
  {
   "cell_type": "markdown",
   "metadata": {},
   "source": [
    "Now let's investigate the class counts for each kind of fruit:"
   ]
  },
  {
   "cell_type": "code",
   "execution_count": 4,
   "metadata": {},
   "outputs": [
    {
     "data": {
      "text/plain": [
       "fruit_name\n",
       "apple       19\n",
       "orange      19\n",
       "lemon       16\n",
       "mandarin     5\n",
       "Name: count, dtype: int64"
      ]
     },
     "execution_count": 4,
     "metadata": {},
     "output_type": "execute_result"
    }
   ],
   "source": [
    "fruit_data['fruit_name'].value_counts(normalize=False)"
   ]
  },
  {
   "cell_type": "markdown",
   "metadata": {},
   "source": [
    "We can change to using `normalize=True` to get the class proportions:"
   ]
  },
  {
   "cell_type": "code",
   "execution_count": 5,
   "metadata": {},
   "outputs": [
    {
     "data": {
      "text/plain": [
       "fruit_name\n",
       "apple       0.322034\n",
       "orange      0.322034\n",
       "lemon       0.271186\n",
       "mandarin    0.084746\n",
       "Name: proportion, dtype: float64"
      ]
     },
     "execution_count": 5,
     "metadata": {},
     "output_type": "execute_result"
    }
   ],
   "source": [
    "fruit_data['fruit_name'].value_counts(normalize=True)"
   ]
  },
  {
   "cell_type": "markdown",
   "metadata": {
    "deletable": true,
    "editable": true,
    "nbgrader": {
     "cell_type": "markdown",
     "checksum": "17bf6dce34be2f50d9bae7b06a353a86",
     "grade": false,
     "grade_id": "cell-6e0a8546a65b79e8",
     "locked": false,
     "schema_version": 3,
     "solution": false,
     "task": false
    }
   },
   "source": [
    "## Randomness and Setting Seeds\n",
    "\n",
    "This worksheet uses functions from the `scikit-learn` library, which not only allows us to perform K-nearest neighbour classification, but also allows us to evaluate how well our classification worked. In order to ensure that the steps in the worksheet are reproducible, we need to set a *`random_state`* or *random seed*, i.e., a numerical \"starting value,\" which determines the sequence of random numbers Python will generate.\n",
    "\n",
    "Below in many cells we have included an argument to set the `random_state` or `np.random.seed`. They are necessary to make sure the autotesting code functions properly. In your own analysis however, it is a better practice to set the *`random_state`* or *random seed* just once at the beginning of your script."
   ]
  },
  {
   "cell_type": "markdown",
   "metadata": {
    "deletable": true,
    "editable": true,
    "nbgrader": {
     "cell_type": "markdown",
     "checksum": "49c822bc89425d0c7a20d98f6637f2e3",
     "grade": false,
     "grade_id": "cell-0e8089ce4f710660",
     "locked": false,
     "schema_version": 3,
     "solution": false
    }
   },
   "source": [
    "## 2. Splitting the data into a training and test set\n",
    "\n",
    "In this exercise, we will be partitioning `fruit_data` into a training (75%) and testing (25%) set using the `scikit-learn` package. After creating the test set, we will put the test set away in a lock box and not touch it again until we have found the best k-nn classifier we can make using the training set. We will use the variable `fruit_name` as our class label. \n",
    "\n",
    "\n",
    "### Question 1\n",
    "\n",
    "To create the training and test set, we would use the `train_test_split` function from `scikit-learn` package. Save the trained dataset and test dataset as `fruit_train` and `fruit_test`, respectively. To help you out, we have put a scaffold of the code in the cell below. Your job is to fill in the blanks with the correct values.\n",
    "\n",
    "> Note: by default `scikit-learn` will **not** stratify the split by the label,\n",
    "> so if we forget to set `stratify` to `fruit_data['fruit_name']` it could be possible that\n",
    "> we may not end up with an observation in the test set with the label \"mandarin\"\n",
    "> (because there are only 5 mandarin observations in the entire data set),\n",
    "> and as a consequence, we would not be able to evaluate predictions on it..."
   ]
  },
  {
   "cell_type": "code",
   "execution_count": 6,
   "metadata": {
    "deletable": true,
    "nbgrader": {
     "cell_type": "code",
     "checksum": "e3a53ac95b91bca144661b01c9b4c133",
     "grade": false,
     "grade_id": "cell-c262636f2b9777e3",
     "locked": false,
     "schema_version": 3,
     "solution": true
    },
    "scrolled": true
   },
   "outputs": [
    {
     "data": {
      "text/html": [
       "<div>\n",
       "<style scoped>\n",
       "    .dataframe tbody tr th:only-of-type {\n",
       "        vertical-align: middle;\n",
       "    }\n",
       "\n",
       "    .dataframe tbody tr th {\n",
       "        vertical-align: top;\n",
       "    }\n",
       "\n",
       "    .dataframe thead th {\n",
       "        text-align: right;\n",
       "    }\n",
       "</style>\n",
       "<table border=\"1\" class=\"dataframe\">\n",
       "  <thead>\n",
       "    <tr style=\"text-align: right;\">\n",
       "      <th></th>\n",
       "      <th>fruit_label</th>\n",
       "      <th>fruit_name</th>\n",
       "      <th>fruit_subtype</th>\n",
       "      <th>mass</th>\n",
       "      <th>width</th>\n",
       "      <th>height</th>\n",
       "      <th>color_score</th>\n",
       "    </tr>\n",
       "  </thead>\n",
       "  <tbody>\n",
       "    <tr>\n",
       "      <th>25</th>\n",
       "      <td>3</td>\n",
       "      <td>orange</td>\n",
       "      <td>spanish_jumbo</td>\n",
       "      <td>356</td>\n",
       "      <td>9.2</td>\n",
       "      <td>9.2</td>\n",
       "      <td>0.75</td>\n",
       "    </tr>\n",
       "    <tr>\n",
       "      <th>19</th>\n",
       "      <td>1</td>\n",
       "      <td>apple</td>\n",
       "      <td>cripps_pink</td>\n",
       "      <td>162</td>\n",
       "      <td>7.4</td>\n",
       "      <td>7.2</td>\n",
       "      <td>0.85</td>\n",
       "    </tr>\n",
       "    <tr>\n",
       "      <th>2</th>\n",
       "      <td>1</td>\n",
       "      <td>apple</td>\n",
       "      <td>granny_smith</td>\n",
       "      <td>176</td>\n",
       "      <td>7.4</td>\n",
       "      <td>7.2</td>\n",
       "      <td>0.60</td>\n",
       "    </tr>\n",
       "    <tr>\n",
       "      <th>57</th>\n",
       "      <td>4</td>\n",
       "      <td>lemon</td>\n",
       "      <td>unknown</td>\n",
       "      <td>152</td>\n",
       "      <td>6.5</td>\n",
       "      <td>8.5</td>\n",
       "      <td>0.72</td>\n",
       "    </tr>\n",
       "    <tr>\n",
       "      <th>17</th>\n",
       "      <td>1</td>\n",
       "      <td>apple</td>\n",
       "      <td>golden_delicious</td>\n",
       "      <td>168</td>\n",
       "      <td>7.5</td>\n",
       "      <td>7.6</td>\n",
       "      <td>0.73</td>\n",
       "    </tr>\n",
       "  </tbody>\n",
       "</table>\n",
       "</div>"
      ],
      "text/plain": [
       "    fruit_label fruit_name     fruit_subtype  mass  width  height  color_score\n",
       "25            3     orange     spanish_jumbo   356    9.2     9.2         0.75\n",
       "19            1      apple       cripps_pink   162    7.4     7.2         0.85\n",
       "2             1      apple      granny_smith   176    7.4     7.2         0.60\n",
       "57            4      lemon           unknown   152    6.5     8.5         0.72\n",
       "17            1      apple  golden_delicious   168    7.5     7.6         0.73"
      ]
     },
     "execution_count": 6,
     "metadata": {},
     "output_type": "execute_result"
    }
   ],
   "source": [
    "# Split data into a training and test set\n",
    "\n",
    "# fruit_train, fruit_test = train_test_split(____, \n",
    "#                                            test_size=____,\n",
    "#                                            stratify=____,\n",
    "#                                            random_state=____) # set the random state to be 2020\n",
    "### BEGIN SOLUTION\n",
    "fruit_train, fruit_test = train_test_split(fruit_data, \n",
    "                                           test_size=0.25,\n",
    "                                           stratify=fruit_data['fruit_name'],\n",
    "                                           random_state=2020) # set the random state to be 2020\n",
    "### END SOLUTION\n",
    "fruit_train.head()"
   ]
  },
  {
   "cell_type": "code",
   "execution_count": 7,
   "metadata": {},
   "outputs": [
    {
     "data": {
      "text/html": [
       "<div>\n",
       "<style scoped>\n",
       "    .dataframe tbody tr th:only-of-type {\n",
       "        vertical-align: middle;\n",
       "    }\n",
       "\n",
       "    .dataframe tbody tr th {\n",
       "        vertical-align: top;\n",
       "    }\n",
       "\n",
       "    .dataframe thead th {\n",
       "        text-align: right;\n",
       "    }\n",
       "</style>\n",
       "<table border=\"1\" class=\"dataframe\">\n",
       "  <thead>\n",
       "    <tr style=\"text-align: right;\">\n",
       "      <th></th>\n",
       "      <th>fruit_label</th>\n",
       "      <th>fruit_name</th>\n",
       "      <th>fruit_subtype</th>\n",
       "      <th>mass</th>\n",
       "      <th>width</th>\n",
       "      <th>height</th>\n",
       "      <th>color_score</th>\n",
       "    </tr>\n",
       "  </thead>\n",
       "  <tbody>\n",
       "    <tr>\n",
       "      <th>49</th>\n",
       "      <td>4</td>\n",
       "      <td>lemon</td>\n",
       "      <td>unknown</td>\n",
       "      <td>132</td>\n",
       "      <td>5.8</td>\n",
       "      <td>8.7</td>\n",
       "      <td>0.73</td>\n",
       "    </tr>\n",
       "    <tr>\n",
       "      <th>11</th>\n",
       "      <td>1</td>\n",
       "      <td>apple</td>\n",
       "      <td>braeburn</td>\n",
       "      <td>172</td>\n",
       "      <td>7.1</td>\n",
       "      <td>7.6</td>\n",
       "      <td>0.92</td>\n",
       "    </tr>\n",
       "    <tr>\n",
       "      <th>42</th>\n",
       "      <td>3</td>\n",
       "      <td>orange</td>\n",
       "      <td>turkey_navel</td>\n",
       "      <td>154</td>\n",
       "      <td>7.2</td>\n",
       "      <td>7.2</td>\n",
       "      <td>0.82</td>\n",
       "    </tr>\n",
       "    <tr>\n",
       "      <th>21</th>\n",
       "      <td>1</td>\n",
       "      <td>apple</td>\n",
       "      <td>cripps_pink</td>\n",
       "      <td>156</td>\n",
       "      <td>7.4</td>\n",
       "      <td>7.4</td>\n",
       "      <td>0.84</td>\n",
       "    </tr>\n",
       "    <tr>\n",
       "      <th>38</th>\n",
       "      <td>3</td>\n",
       "      <td>orange</td>\n",
       "      <td>turkey_navel</td>\n",
       "      <td>158</td>\n",
       "      <td>7.2</td>\n",
       "      <td>7.8</td>\n",
       "      <td>0.77</td>\n",
       "    </tr>\n",
       "  </tbody>\n",
       "</table>\n",
       "</div>"
      ],
      "text/plain": [
       "    fruit_label fruit_name fruit_subtype  mass  width  height  color_score\n",
       "49            4      lemon       unknown   132    5.8     8.7         0.73\n",
       "11            1      apple      braeburn   172    7.1     7.6         0.92\n",
       "42            3     orange  turkey_navel   154    7.2     7.2         0.82\n",
       "21            1      apple   cripps_pink   156    7.4     7.4         0.84\n",
       "38            3     orange  turkey_navel   158    7.2     7.8         0.77"
      ]
     },
     "execution_count": 7,
     "metadata": {},
     "output_type": "execute_result"
    }
   ],
   "source": [
    "fruit_test.head()"
   ]
  },
  {
   "cell_type": "code",
   "execution_count": 8,
   "metadata": {
    "deletable": true,
    "editable": true,
    "nbgrader": {
     "cell_type": "code",
     "checksum": "9b841e3ad8f51bda88aa7753fcf318af",
     "grade": true,
     "grade_id": "cell-7432078031e563b8",
     "locked": false,
     "points": 1,
     "schema_version": 3,
     "solution": false
    }
   },
   "outputs": [
    {
     "name": "stdout",
     "output_type": "stream",
     "text": [
      "Success!\n"
     ]
    }
   ],
   "source": [
    "# Run these tests to check your answer\n",
    "\n",
    "# Check training data \n",
    "assert isinstance(fruit_train, pd.DataFrame), \"`fruit_train` is not a pandas DataFrame\"\n",
    "assert fruit_train.shape == (44, 7), f\"Expected shape (44, 7), but got {fruit_train.shape}\"\n",
    "assert (fruit_train['fruit_name'] == 'mandarin').any(), \"`mandarin` not found in `fruit_name`\"\n",
    "np.testing.assert_array_equal(np.array([14, 14, 12,  4]), fruit_train['fruit_name'].value_counts().values,\n",
    "                             err_msg='Some unexpected observations are in your training set.')\n",
    "assert fruit_train['fruit_name'].value_counts().index.tolist() == ['orange', 'apple', 'lemon', 'mandarin'], 'Some unexpected observations are in your training set.'\n",
    "\n",
    "# Check test data\n",
    "assert isinstance(fruit_test, pd.DataFrame), \"`fruit_test` is not a pandas DataFrame\"\n",
    "assert fruit_test.shape == (15, 7), f\"Expected shape (15, 7), but got {fruit_train.shape}\"\n",
    "assert (fruit_test['fruit_name'] == 'mandarin').any(), \"`mandarin` not found in `fruit_name`\"\n",
    "np.testing.assert_array_equal(np.array([5, 5, 4, 1]), fruit_test['fruit_name'].value_counts().values,\n",
    "                             err_msg='Some unexpected observations are in your test set.')\n",
    "assert fruit_test['fruit_name'].value_counts().index.tolist() == ['apple', 'orange', 'lemon', 'mandarin'], 'Some unexpected observations are in your test set.'\n",
    "\n",
    "print('Success!')"
   ]
  },
  {
   "cell_type": "markdown",
   "metadata": {
    "deletable": true,
    "editable": true,
    "nbgrader": {
     "cell_type": "markdown",
     "checksum": "3459c19223373b19d6a4f86268fd48f2",
     "grade": false,
     "grade_id": "cell-9f6c24da5042200c",
     "locked": false,
     "schema_version": 3,
     "solution": false,
     "task": false
    }
   },
   "source": [
    "### Question 2 \n",
    "\n",
    "K-nearest neighbors is sensitive to the scale of the predictors so we should do some preprocessing to standardize them. Remember that standardization is *part of your training procedure*, so you can't use your test data to compute the centered / scaled values for each variable. Once we have created the standardization preprocessor, we can then later on apply it separately to both the training and test data sets.\n",
    "\n",
    "For this worksheet, let's see if `mass`, `width`, `height` and `color_score` can predict `fruit_name`. \n",
    "\n",
    "To scale and center the data, first, pass the predictors to the `make_column_transformer` function to make the preprocessor. To help you out, we have put a scaffold of the code in the cell below. Your job is to fill in the blanks with the correct values.\n",
    "\n",
    "*Assign your answer to an object called `fruit_preprocessor`.*"
   ]
  },
  {
   "cell_type": "code",
   "execution_count": 9,
   "metadata": {
    "deletable": true,
    "nbgrader": {
     "cell_type": "code",
     "checksum": "74ac5c1fc9e911ba2da76c8ed2fa4d99",
     "grade": false,
     "grade_id": "cell-aca4cc578b245211",
     "locked": false,
     "schema_version": 3,
     "solution": true,
     "task": false
    }
   },
   "outputs": [
    {
     "data": {
      "text/html": [
       "<style>#sk-container-id-1 {color: black;}#sk-container-id-1 pre{padding: 0;}#sk-container-id-1 div.sk-toggleable {background-color: white;}#sk-container-id-1 label.sk-toggleable__label {cursor: pointer;display: block;width: 100%;margin-bottom: 0;padding: 0.3em;box-sizing: border-box;text-align: center;}#sk-container-id-1 label.sk-toggleable__label-arrow:before {content: \"▸\";float: left;margin-right: 0.25em;color: #696969;}#sk-container-id-1 label.sk-toggleable__label-arrow:hover:before {color: black;}#sk-container-id-1 div.sk-estimator:hover label.sk-toggleable__label-arrow:before {color: black;}#sk-container-id-1 div.sk-toggleable__content {max-height: 0;max-width: 0;overflow: hidden;text-align: left;background-color: #f0f8ff;}#sk-container-id-1 div.sk-toggleable__content pre {margin: 0.2em;color: black;border-radius: 0.25em;background-color: #f0f8ff;}#sk-container-id-1 input.sk-toggleable__control:checked~div.sk-toggleable__content {max-height: 200px;max-width: 100%;overflow: auto;}#sk-container-id-1 input.sk-toggleable__control:checked~label.sk-toggleable__label-arrow:before {content: \"▾\";}#sk-container-id-1 div.sk-estimator input.sk-toggleable__control:checked~label.sk-toggleable__label {background-color: #d4ebff;}#sk-container-id-1 div.sk-label input.sk-toggleable__control:checked~label.sk-toggleable__label {background-color: #d4ebff;}#sk-container-id-1 input.sk-hidden--visually {border: 0;clip: rect(1px 1px 1px 1px);clip: rect(1px, 1px, 1px, 1px);height: 1px;margin: -1px;overflow: hidden;padding: 0;position: absolute;width: 1px;}#sk-container-id-1 div.sk-estimator {font-family: monospace;background-color: #f0f8ff;border: 1px dotted black;border-radius: 0.25em;box-sizing: border-box;margin-bottom: 0.5em;}#sk-container-id-1 div.sk-estimator:hover {background-color: #d4ebff;}#sk-container-id-1 div.sk-parallel-item::after {content: \"\";width: 100%;border-bottom: 1px solid gray;flex-grow: 1;}#sk-container-id-1 div.sk-label:hover label.sk-toggleable__label {background-color: #d4ebff;}#sk-container-id-1 div.sk-serial::before {content: \"\";position: absolute;border-left: 1px solid gray;box-sizing: border-box;top: 0;bottom: 0;left: 50%;z-index: 0;}#sk-container-id-1 div.sk-serial {display: flex;flex-direction: column;align-items: center;background-color: white;padding-right: 0.2em;padding-left: 0.2em;position: relative;}#sk-container-id-1 div.sk-item {position: relative;z-index: 1;}#sk-container-id-1 div.sk-parallel {display: flex;align-items: stretch;justify-content: center;background-color: white;position: relative;}#sk-container-id-1 div.sk-item::before, #sk-container-id-1 div.sk-parallel-item::before {content: \"\";position: absolute;border-left: 1px solid gray;box-sizing: border-box;top: 0;bottom: 0;left: 50%;z-index: -1;}#sk-container-id-1 div.sk-parallel-item {display: flex;flex-direction: column;z-index: 1;position: relative;background-color: white;}#sk-container-id-1 div.sk-parallel-item:first-child::after {align-self: flex-end;width: 50%;}#sk-container-id-1 div.sk-parallel-item:last-child::after {align-self: flex-start;width: 50%;}#sk-container-id-1 div.sk-parallel-item:only-child::after {width: 0;}#sk-container-id-1 div.sk-dashed-wrapped {border: 1px dashed gray;margin: 0 0.4em 0.5em 0.4em;box-sizing: border-box;padding-bottom: 0.4em;background-color: white;}#sk-container-id-1 div.sk-label label {font-family: monospace;font-weight: bold;display: inline-block;line-height: 1.2em;}#sk-container-id-1 div.sk-label-container {text-align: center;}#sk-container-id-1 div.sk-container {/* jupyter's `normalize.less` sets `[hidden] { display: none; }` but bootstrap.min.css set `[hidden] { display: none !important; }` so we also need the `!important` here to be able to override the default hidden behavior on the sphinx rendered scikit-learn.org. See: https://github.com/scikit-learn/scikit-learn/issues/21755 */display: inline-block !important;position: relative;}#sk-container-id-1 div.sk-text-repr-fallback {display: none;}</style><div id=\"sk-container-id-1\" class=\"sk-top-container\"><div class=\"sk-text-repr-fallback\"><pre>ColumnTransformer(transformers=[(&#x27;standardscaler&#x27;, StandardScaler(),\n",
       "                                 [&#x27;mass&#x27;, &#x27;width&#x27;, &#x27;height&#x27;, &#x27;color_score&#x27;])],\n",
       "                  verbose_feature_names_out=False)</pre><b>In a Jupyter environment, please rerun this cell to show the HTML representation or trust the notebook. <br />On GitHub, the HTML representation is unable to render, please try loading this page with nbviewer.org.</b></div><div class=\"sk-container\" hidden><div class=\"sk-item sk-dashed-wrapped\"><div class=\"sk-label-container\"><div class=\"sk-label sk-toggleable\"><input class=\"sk-toggleable__control sk-hidden--visually\" id=\"sk-estimator-id-1\" type=\"checkbox\" ><label for=\"sk-estimator-id-1\" class=\"sk-toggleable__label sk-toggleable__label-arrow\">ColumnTransformer</label><div class=\"sk-toggleable__content\"><pre>ColumnTransformer(transformers=[(&#x27;standardscaler&#x27;, StandardScaler(),\n",
       "                                 [&#x27;mass&#x27;, &#x27;width&#x27;, &#x27;height&#x27;, &#x27;color_score&#x27;])],\n",
       "                  verbose_feature_names_out=False)</pre></div></div></div><div class=\"sk-parallel\"><div class=\"sk-parallel-item\"><div class=\"sk-item\"><div class=\"sk-label-container\"><div class=\"sk-label sk-toggleable\"><input class=\"sk-toggleable__control sk-hidden--visually\" id=\"sk-estimator-id-2\" type=\"checkbox\" ><label for=\"sk-estimator-id-2\" class=\"sk-toggleable__label sk-toggleable__label-arrow\">standardscaler</label><div class=\"sk-toggleable__content\"><pre>[&#x27;mass&#x27;, &#x27;width&#x27;, &#x27;height&#x27;, &#x27;color_score&#x27;]</pre></div></div></div><div class=\"sk-serial\"><div class=\"sk-item\"><div class=\"sk-estimator sk-toggleable\"><input class=\"sk-toggleable__control sk-hidden--visually\" id=\"sk-estimator-id-3\" type=\"checkbox\" ><label for=\"sk-estimator-id-3\" class=\"sk-toggleable__label sk-toggleable__label-arrow\">StandardScaler</label><div class=\"sk-toggleable__content\"><pre>StandardScaler()</pre></div></div></div></div></div></div></div></div></div></div>"
      ],
      "text/plain": [
       "ColumnTransformer(transformers=[('standardscaler', StandardScaler(),\n",
       "                                 ['mass', 'width', 'height', 'color_score'])],\n",
       "                  verbose_feature_names_out=False)"
      ]
     },
     "execution_count": 9,
     "metadata": {},
     "output_type": "execute_result"
    }
   ],
   "source": [
    "# Create a preprocessor using the training data\n",
    "\n",
    "# fruit_preprocessor = make_column_transformer(\n",
    "#     (____, ____,\n",
    "#     verbose_feature_names_out=____\n",
    "# )\n",
    "### BEGIN SOLUTION\n",
    "fruit_preprocessor = make_column_transformer(\n",
    "    (StandardScaler(), ['mass', 'width', 'height', 'color_score']),\n",
    "    verbose_feature_names_out=False\n",
    ")\n",
    "### END SOLUTION\n",
    "fruit_preprocessor"
   ]
  },
  {
   "cell_type": "code",
   "execution_count": 10,
   "metadata": {
    "deletable": true,
    "editable": true,
    "nbgrader": {
     "cell_type": "code",
     "checksum": "2ad26ad7fcf1b58f4a49c65612a43b93",
     "grade": true,
     "grade_id": "cell-2453aaa31ba794b6",
     "locked": false,
     "points": 1,
     "schema_version": 3,
     "solution": false,
     "task": false
    }
   },
   "outputs": [
    {
     "name": "stdout",
     "output_type": "stream",
     "text": [
      "Success!\n"
     ]
    }
   ],
   "source": [
    "# Run these tests to check your answer\n",
    "\n",
    "assert isinstance(fruit_preprocessor, ColumnTransformer), \"fruit_preprocessor is not a ColumnTransformer\"\n",
    "expected_columns = {'mass', 'width', 'height', 'color_score'}\n",
    "actual_columns = set(fruit_preprocessor.transformers[0][2])\n",
    "assert actual_columns == expected_columns, f\"Expected columns {expected_columns}, but got {actual_columns}\"\n",
    "assert isinstance(fruit_preprocessor.transformers[0][1], StandardScaler), \"Transformer is not an instance of StandardScaler\"\n",
    "\n",
    "print('Success!')"
   ]
  },
  {
   "cell_type": "markdown",
   "metadata": {},
   "source": [
    "Now that we have split the data, we can do things like exploratory data analysis and model fitting!!!\n",
    "\n",
    "A common way to explore the data when peforming classification is to create pairwise plots of the predictor variables,\n",
    "and color the points by the class label. Remember, that our model is sensitive to scale, \n",
    "and so we should also scale the data when visualizing it for modeling insights."
   ]
  },
  {
   "cell_type": "code",
   "execution_count": 11,
   "metadata": {},
   "outputs": [
    {
     "data": {
      "text/html": [
       "\n",
       "<style>\n",
       "  #altair-viz-f3e2b7c322cf4e5d87db9d3598d80a3e.vega-embed {\n",
       "    width: 100%;\n",
       "    display: flex;\n",
       "  }\n",
       "\n",
       "  #altair-viz-f3e2b7c322cf4e5d87db9d3598d80a3e.vega-embed details,\n",
       "  #altair-viz-f3e2b7c322cf4e5d87db9d3598d80a3e.vega-embed details summary {\n",
       "    position: relative;\n",
       "  }\n",
       "</style>\n",
       "<div id=\"altair-viz-f3e2b7c322cf4e5d87db9d3598d80a3e\"></div>\n",
       "<script type=\"text/javascript\">\n",
       "  var VEGA_DEBUG = (typeof VEGA_DEBUG == \"undefined\") ? {} : VEGA_DEBUG;\n",
       "  (function(spec, embedOpt){\n",
       "    let outputDiv = document.currentScript.previousElementSibling;\n",
       "    if (outputDiv.id !== \"altair-viz-f3e2b7c322cf4e5d87db9d3598d80a3e\") {\n",
       "      outputDiv = document.getElementById(\"altair-viz-f3e2b7c322cf4e5d87db9d3598d80a3e\");\n",
       "    }\n",
       "    const paths = {\n",
       "      \"vega\": \"https://cdn.jsdelivr.net/npm/vega@5?noext\",\n",
       "      \"vega-lib\": \"https://cdn.jsdelivr.net/npm/vega-lib?noext\",\n",
       "      \"vega-lite\": \"https://cdn.jsdelivr.net/npm/vega-lite@5.15.1?noext\",\n",
       "      \"vega-embed\": \"https://cdn.jsdelivr.net/npm/vega-embed@6?noext\",\n",
       "    };\n",
       "\n",
       "    function maybeLoadScript(lib, version) {\n",
       "      var key = `${lib.replace(\"-\", \"\")}_version`;\n",
       "      return (VEGA_DEBUG[key] == version) ?\n",
       "        Promise.resolve(paths[lib]) :\n",
       "        new Promise(function(resolve, reject) {\n",
       "          var s = document.createElement('script');\n",
       "          document.getElementsByTagName(\"head\")[0].appendChild(s);\n",
       "          s.async = true;\n",
       "          s.onload = () => {\n",
       "            VEGA_DEBUG[key] = version;\n",
       "            return resolve(paths[lib]);\n",
       "          };\n",
       "          s.onerror = () => reject(`Error loading script: ${paths[lib]}`);\n",
       "          s.src = paths[lib];\n",
       "        });\n",
       "    }\n",
       "\n",
       "    function showError(err) {\n",
       "      outputDiv.innerHTML = `<div class=\"error\" style=\"color:red;\">${err}</div>`;\n",
       "      throw err;\n",
       "    }\n",
       "\n",
       "    function displayChart(vegaEmbed) {\n",
       "      vegaEmbed(outputDiv, spec, embedOpt)\n",
       "        .catch(err => showError(`Javascript Error: ${err.message}<br>This usually means there's a typo in your chart specification. See the javascript console for the full traceback.`));\n",
       "    }\n",
       "\n",
       "    if(typeof define === \"function\" && define.amd) {\n",
       "      requirejs.config({paths});\n",
       "      require([\"vega-embed\"], displayChart, err => showError(`Error loading script: ${err.message}`));\n",
       "    } else {\n",
       "      maybeLoadScript(\"vega\", \"5\")\n",
       "        .then(() => maybeLoadScript(\"vega-lite\", \"5.15.1\"))\n",
       "        .then(() => maybeLoadScript(\"vega-embed\", \"6\"))\n",
       "        .catch(showError)\n",
       "        .then(() => displayChart(vegaEmbed));\n",
       "    }\n",
       "  })({\"config\": {\"view\": {\"continuousWidth\": 300, \"continuousHeight\": 300}}, \"repeat\": {\"column\": [\"color_score\", \"height\", \"width\", \"mass\"], \"row\": [\"mass\", \"width\", \"height\", \"color_score\"]}, \"spec\": {\"data\": {\"name\": \"data-7feb82ec183943b751fa9f3dd21e4933\"}, \"mark\": {\"type\": \"point\", \"filled\": true, \"opacity\": 0.9, \"size\": 75, \"stroke\": \"black\", \"strokeWidth\": 0.5}, \"encoding\": {\"color\": {\"field\": \"fruit_name\", \"scale\": {\"range\": [\"green\", \"yellow\", \"#f26a02\", \"#ffd1a6\"]}, \"type\": \"nominal\"}, \"shape\": {\"field\": \"fruit_name\", \"scale\": {\"range\": [\"circle\", \"diamond\", \"circle\", \"square\"]}, \"type\": \"nominal\"}, \"x\": {\"field\": {\"repeat\": \"column\"}, \"type\": \"quantitative\"}, \"y\": {\"field\": {\"repeat\": \"row\"}, \"type\": \"quantitative\"}}, \"height\": 175, \"name\": \"view_1\", \"width\": 175}, \"params\": [{\"name\": \"param_1\", \"select\": {\"type\": \"interval\", \"encodings\": [\"x\", \"y\"]}, \"bind\": \"scales\", \"views\": [\"view_1_child__row_masscolumn_color_score\", \"view_1_child__row_masscolumn_height\", \"view_1_child__row_masscolumn_width\", \"view_1_child__row_masscolumn_mass\", \"view_1_child__row_widthcolumn_color_score\", \"view_1_child__row_widthcolumn_height\", \"view_1_child__row_widthcolumn_width\", \"view_1_child__row_widthcolumn_mass\", \"view_1_child__row_heightcolumn_color_score\", \"view_1_child__row_heightcolumn_height\", \"view_1_child__row_heightcolumn_width\", \"view_1_child__row_heightcolumn_mass\", \"view_1_child__row_color_scorecolumn_color_score\", \"view_1_child__row_color_scorecolumn_height\", \"view_1_child__row_color_scorecolumn_width\", \"view_1_child__row_color_scorecolumn_mass\"]}], \"$schema\": \"https://vega.github.io/schema/vega-lite/v5.15.1.json\", \"datasets\": {\"data-7feb82ec183943b751fa9f3dd21e4933\": [{\"fruit_label\": 3, \"fruit_name\": \"orange\", \"fruit_subtype\": \"spanish_jumbo\", \"mass\": 356, \"width\": 9.2, \"height\": 9.2, \"color_score\": 0.75}, {\"fruit_label\": 1, \"fruit_name\": \"apple\", \"fruit_subtype\": \"cripps_pink\", \"mass\": 162, \"width\": 7.4, \"height\": 7.2, \"color_score\": 0.85}, {\"fruit_label\": 1, \"fruit_name\": \"apple\", \"fruit_subtype\": \"granny_smith\", \"mass\": 176, \"width\": 7.4, \"height\": 7.2, \"color_score\": 0.6}, {\"fruit_label\": 4, \"fruit_name\": \"lemon\", \"fruit_subtype\": \"unknown\", \"mass\": 152, \"width\": 6.5, \"height\": 8.5, \"color_score\": 0.72}, {\"fruit_label\": 1, \"fruit_name\": \"apple\", \"fruit_subtype\": \"golden_delicious\", \"mass\": 168, \"width\": 7.5, \"height\": 7.6, \"color_score\": 0.73}, {\"fruit_label\": 2, \"fruit_name\": \"mandarin\", \"fruit_subtype\": \"mandarin\", \"mass\": 80, \"width\": 5.9, \"height\": 4.3, \"color_score\": 0.81}, {\"fruit_label\": 3, \"fruit_name\": \"orange\", \"fruit_subtype\": \"selected_seconds\", \"mass\": 210, \"width\": 7.8, \"height\": 8.0, \"color_score\": 0.82}, {\"fruit_label\": 3, \"fruit_name\": \"orange\", \"fruit_subtype\": \"selected_seconds\", \"mass\": 204, \"width\": 7.5, \"height\": 9.2, \"color_score\": 0.77}, {\"fruit_label\": 1, \"fruit_name\": \"apple\", \"fruit_subtype\": \"cripps_pink\", \"mass\": 160, \"width\": 7.5, \"height\": 7.5, \"color_score\": 0.86}, {\"fruit_label\": 4, \"fruit_name\": \"lemon\", \"fruit_subtype\": \"unknown\", \"mass\": 116, \"width\": 6.0, \"height\": 7.5, \"color_score\": 0.72}, {\"fruit_label\": 2, \"fruit_name\": \"mandarin\", \"fruit_subtype\": \"mandarin\", \"mass\": 84, \"width\": 6.0, \"height\": 4.6, \"color_score\": 0.79}, {\"fruit_label\": 1, \"fruit_name\": \"apple\", \"fruit_subtype\": \"braeburn\", \"mass\": 172, \"width\": 7.4, \"height\": 7.0, \"color_score\": 0.89}, {\"fruit_label\": 1, \"fruit_name\": \"apple\", \"fruit_subtype\": \"cripps_pink\", \"mass\": 162, \"width\": 7.5, \"height\": 7.1, \"color_score\": 0.83}, {\"fruit_label\": 3, \"fruit_name\": \"orange\", \"fruit_subtype\": \"selected_seconds\", \"mass\": 164, \"width\": 7.2, \"height\": 7.0, \"color_score\": 0.8}, {\"fruit_label\": 1, \"fruit_name\": \"apple\", \"fruit_subtype\": \"golden_delicious\", \"mass\": 156, \"width\": 7.7, \"height\": 7.1, \"color_score\": 0.69}, {\"fruit_label\": 3, \"fruit_name\": \"orange\", \"fruit_subtype\": \"turkey_navel\", \"mass\": 160, \"width\": 7.1, \"height\": 7.6, \"color_score\": 0.76}, {\"fruit_label\": 4, \"fruit_name\": \"lemon\", \"fruit_subtype\": \"spanish_belsan\", \"mass\": 196, \"width\": 7.3, \"height\": 9.7, \"color_score\": 0.72}, {\"fruit_label\": 3, \"fruit_name\": \"orange\", \"fruit_subtype\": \"turkey_navel\", \"mass\": 142, \"width\": 7.6, \"height\": 7.8, \"color_score\": 0.75}, {\"fruit_label\": 4, \"fruit_name\": \"lemon\", \"fruit_subtype\": \"spanish_belsan\", \"mass\": 200, \"width\": 7.3, \"height\": 10.5, \"color_score\": 0.72}, {\"fruit_label\": 3, \"fruit_name\": \"orange\", \"fruit_subtype\": \"turkey_navel\", \"mass\": 190, \"width\": 7.5, \"height\": 8.1, \"color_score\": 0.74}, {\"fruit_label\": 2, \"fruit_name\": \"mandarin\", \"fruit_subtype\": \"mandarin\", \"mass\": 76, \"width\": 5.8, \"height\": 4.0, \"color_score\": 0.81}, {\"fruit_label\": 4, \"fruit_name\": \"lemon\", \"fruit_subtype\": \"unknown\", \"mass\": 118, \"width\": 5.9, \"height\": 8.0, \"color_score\": 0.72}, {\"fruit_label\": 3, \"fruit_name\": \"orange\", \"fruit_subtype\": \"selected_seconds\", \"mass\": 160, \"width\": 7.0, \"height\": 7.4, \"color_score\": 0.81}, {\"fruit_label\": 1, \"fruit_name\": \"apple\", \"fruit_subtype\": \"cripps_pink\", \"mass\": 170, \"width\": 7.6, \"height\": 7.9, \"color_score\": 0.88}, {\"fruit_label\": 1, \"fruit_name\": \"apple\", \"fruit_subtype\": \"golden_delicious\", \"mass\": 156, \"width\": 7.6, \"height\": 7.5, \"color_score\": 0.67}, {\"fruit_label\": 3, \"fruit_name\": \"orange\", \"fruit_subtype\": \"turkey_navel\", \"mass\": 154, \"width\": 7.3, \"height\": 7.3, \"color_score\": 0.79}, {\"fruit_label\": 3, \"fruit_name\": \"orange\", \"fruit_subtype\": \"spanish_jumbo\", \"mass\": 342, \"width\": 9.0, \"height\": 9.4, \"color_score\": 0.75}, {\"fruit_label\": 4, \"fruit_name\": \"lemon\", \"fruit_subtype\": \"unknown\", \"mass\": 116, \"width\": 6.1, \"height\": 8.5, \"color_score\": 0.71}, {\"fruit_label\": 4, \"fruit_name\": \"lemon\", \"fruit_subtype\": \"unknown\", \"mass\": 130, \"width\": 6.0, \"height\": 8.2, \"color_score\": 0.71}, {\"fruit_label\": 4, \"fruit_name\": \"lemon\", \"fruit_subtype\": \"unknown\", \"mass\": 118, \"width\": 6.1, \"height\": 8.1, \"color_score\": 0.7}, {\"fruit_label\": 1, \"fruit_name\": \"apple\", \"fruit_subtype\": \"braeburn\", \"mass\": 166, \"width\": 6.9, \"height\": 7.3, \"color_score\": 0.93}, {\"fruit_label\": 3, \"fruit_name\": \"orange\", \"fruit_subtype\": \"turkey_navel\", \"mass\": 144, \"width\": 6.8, \"height\": 7.4, \"color_score\": 0.75}, {\"fruit_label\": 1, \"fruit_name\": \"apple\", \"fruit_subtype\": \"cripps_pink\", \"mass\": 140, \"width\": 7.3, \"height\": 7.1, \"color_score\": 0.87}, {\"fruit_label\": 4, \"fruit_name\": \"lemon\", \"fruit_subtype\": \"unknown\", \"mass\": 116, \"width\": 5.9, \"height\": 8.1, \"color_score\": 0.73}, {\"fruit_label\": 1, \"fruit_name\": \"apple\", \"fruit_subtype\": \"granny_smith\", \"mass\": 180, \"width\": 8.0, \"height\": 6.8, \"color_score\": 0.59}, {\"fruit_label\": 1, \"fruit_name\": \"apple\", \"fruit_subtype\": \"braeburn\", \"mass\": 154, \"width\": 7.0, \"height\": 7.1, \"color_score\": 0.88}, {\"fruit_label\": 3, \"fruit_name\": \"orange\", \"fruit_subtype\": \"turkey_navel\", \"mass\": 154, \"width\": 7.1, \"height\": 7.5, \"color_score\": 0.78}, {\"fruit_label\": 4, \"fruit_name\": \"lemon\", \"fruit_subtype\": \"unknown\", \"mass\": 116, \"width\": 6.3, \"height\": 7.7, \"color_score\": 0.72}, {\"fruit_label\": 2, \"fruit_name\": \"mandarin\", \"fruit_subtype\": \"mandarin\", \"mass\": 86, \"width\": 6.2, \"height\": 4.7, \"color_score\": 0.8}, {\"fruit_label\": 3, \"fruit_name\": \"orange\", \"fruit_subtype\": \"turkey_navel\", \"mass\": 180, \"width\": 7.6, \"height\": 8.2, \"color_score\": 0.79}, {\"fruit_label\": 1, \"fruit_name\": \"apple\", \"fruit_subtype\": \"golden_delicious\", \"mass\": 152, \"width\": 7.6, \"height\": 7.3, \"color_score\": 0.69}, {\"fruit_label\": 4, \"fruit_name\": \"lemon\", \"fruit_subtype\": \"spanish_belsan\", \"mass\": 186, \"width\": 7.2, \"height\": 9.2, \"color_score\": 0.72}, {\"fruit_label\": 4, \"fruit_name\": \"lemon\", \"fruit_subtype\": \"unknown\", \"mass\": 120, \"width\": 6.0, \"height\": 8.4, \"color_score\": 0.74}, {\"fruit_label\": 3, \"fruit_name\": \"orange\", \"fruit_subtype\": \"turkey_navel\", \"mass\": 150, \"width\": 7.1, \"height\": 7.9, \"color_score\": 0.75}]}}, {\"mode\": \"vega-lite\"});\n",
       "</script>"
      ],
      "text/plain": [
       "alt.RepeatChart(...)"
      ]
     },
     "execution_count": 11,
     "metadata": {},
     "output_type": "execute_result"
    }
   ],
   "source": [
    "# Run this cell to scale the data and create a pairwise scatter plot\n",
    "\n",
    "# Create a scaled version of the data\n",
    "fruit_preprocessor.fit(fruit_train)\n",
    "scaled_fruit_train = fruit_preprocessor.transform(fruit_train)\n",
    "\n",
    "# Create the scatterplot\n",
    "fruit_pairwise = alt.Chart(fruit_train).mark_point(filled=True, stroke='black', strokeWidth=0.5, size=75, opacity=0.9).encode(\n",
    "    x=alt.X(alt.repeat(\"column\"), type='quantitative'),\n",
    "    y=alt.Y(alt.repeat(\"row\"), type='quantitative'),\n",
    "    color=alt.Color(\"fruit_name:N\", scale=alt.Scale(range=['green', 'yellow', '#f26a02', '#ffd1a6'])),\n",
    "    shape=alt.Shape(\"fruit_name:N\", scale=alt.Scale(range=['circle', 'diamond', 'circle', 'square'])),\n",
    ").properties(\n",
    "    width=175,\n",
    "    height=175\n",
    ").repeat(\n",
    "    row=['mass', 'width', 'height', 'color_score'],\n",
    "    column=['color_score', 'height','width', 'mass']\n",
    ").interactive()\n",
    "\n",
    "fruit_pairwise"
   ]
  },
  {
   "cell_type": "markdown",
   "metadata": {
    "deletable": true,
    "editable": true,
    "nbgrader": {
     "cell_type": "markdown",
     "checksum": "6356bfde003430bf8048d1c516c8cddb",
     "grade": false,
     "grade_id": "cell-6693330a0f077083",
     "locked": false,
     "schema_version": 3,
     "solution": false
    }
   },
   "source": [
    "## 3. Cross-validation and parameter value selection\n",
    "\n",
    "### Question 3\n",
    "\n",
    "We want to pick the number of neighbours to maximize the performance of our classifier on data *it hasn’t seen yet*. One way to do this is to cross-validation. To do this in Python we should do the following:\n",
    "\n",
    "1. Setup a pipeline object that specifies the data and preprocessor, as well as the type of model we want to use,\n",
    "2. Create a dictionary with the range of values we want to search through for the parameter(s)\n",
    "3. Pass the pipline object, and parameter grid dictionary object to a `GridSearchCV`.\n",
    "4. Run `fit` on the `GridSearchCV` object to carryout the tuning process.\n",
    "5. Use `pd.DataFrame` to convert the output to a dataframe for convenience.\n",
    "\n",
    "Perform the above using to run **4-fold** cross validation to choose $K$ \n",
    "for K-nearest neighbors classification.\n",
    "Use the `fruit_preprocessor` object you created in question 2,\n",
    "and search across the values from 1 to 15 (incrementing by 1).\n",
    "\n",
    "*Assign your final data frame to an object called `fruit_vfold_score` so you can check your work.*"
   ]
  },
  {
   "cell_type": "code",
   "execution_count": 12,
   "metadata": {},
   "outputs": [
    {
     "data": {
      "text/html": [
       "<div>\n",
       "<style scoped>\n",
       "    .dataframe tbody tr th:only-of-type {\n",
       "        vertical-align: middle;\n",
       "    }\n",
       "\n",
       "    .dataframe tbody tr th {\n",
       "        vertical-align: top;\n",
       "    }\n",
       "\n",
       "    .dataframe thead th {\n",
       "        text-align: right;\n",
       "    }\n",
       "</style>\n",
       "<table border=\"1\" class=\"dataframe\">\n",
       "  <thead>\n",
       "    <tr style=\"text-align: right;\">\n",
       "      <th></th>\n",
       "      <th>mean_fit_time</th>\n",
       "      <th>std_fit_time</th>\n",
       "      <th>mean_score_time</th>\n",
       "      <th>std_score_time</th>\n",
       "      <th>param_kneighborsclassifier__n_neighbors</th>\n",
       "      <th>params</th>\n",
       "      <th>split0_test_score</th>\n",
       "      <th>split1_test_score</th>\n",
       "      <th>split2_test_score</th>\n",
       "      <th>split3_test_score</th>\n",
       "      <th>mean_test_score</th>\n",
       "      <th>std_test_score</th>\n",
       "      <th>rank_test_score</th>\n",
       "    </tr>\n",
       "  </thead>\n",
       "  <tbody>\n",
       "    <tr>\n",
       "      <th>0</th>\n",
       "      <td>0.004417</td>\n",
       "      <td>0.001260</td>\n",
       "      <td>0.003736</td>\n",
       "      <td>0.000423</td>\n",
       "      <td>1</td>\n",
       "      <td>{'kneighborsclassifier__n_neighbors': 1}</td>\n",
       "      <td>0.818182</td>\n",
       "      <td>0.818182</td>\n",
       "      <td>1.000000</td>\n",
       "      <td>1.000000</td>\n",
       "      <td>0.909091</td>\n",
       "      <td>0.090909</td>\n",
       "      <td>3</td>\n",
       "    </tr>\n",
       "    <tr>\n",
       "      <th>1</th>\n",
       "      <td>0.003344</td>\n",
       "      <td>0.000198</td>\n",
       "      <td>0.003084</td>\n",
       "      <td>0.000259</td>\n",
       "      <td>2</td>\n",
       "      <td>{'kneighborsclassifier__n_neighbors': 2}</td>\n",
       "      <td>0.727273</td>\n",
       "      <td>0.818182</td>\n",
       "      <td>1.000000</td>\n",
       "      <td>1.000000</td>\n",
       "      <td>0.886364</td>\n",
       "      <td>0.118094</td>\n",
       "      <td>4</td>\n",
       "    </tr>\n",
       "    <tr>\n",
       "      <th>2</th>\n",
       "      <td>0.008546</td>\n",
       "      <td>0.008568</td>\n",
       "      <td>0.006446</td>\n",
       "      <td>0.006219</td>\n",
       "      <td>3</td>\n",
       "      <td>{'kneighborsclassifier__n_neighbors': 3}</td>\n",
       "      <td>0.909091</td>\n",
       "      <td>0.909091</td>\n",
       "      <td>1.000000</td>\n",
       "      <td>0.909091</td>\n",
       "      <td>0.931818</td>\n",
       "      <td>0.039365</td>\n",
       "      <td>1</td>\n",
       "    </tr>\n",
       "    <tr>\n",
       "      <th>3</th>\n",
       "      <td>0.022629</td>\n",
       "      <td>0.028549</td>\n",
       "      <td>0.005435</td>\n",
       "      <td>0.002155</td>\n",
       "      <td>4</td>\n",
       "      <td>{'kneighborsclassifier__n_neighbors': 4}</td>\n",
       "      <td>0.727273</td>\n",
       "      <td>1.000000</td>\n",
       "      <td>1.000000</td>\n",
       "      <td>1.000000</td>\n",
       "      <td>0.931818</td>\n",
       "      <td>0.118094</td>\n",
       "      <td>1</td>\n",
       "    </tr>\n",
       "    <tr>\n",
       "      <th>4</th>\n",
       "      <td>0.004683</td>\n",
       "      <td>0.000304</td>\n",
       "      <td>0.004403</td>\n",
       "      <td>0.000543</td>\n",
       "      <td>5</td>\n",
       "      <td>{'kneighborsclassifier__n_neighbors': 5}</td>\n",
       "      <td>0.727273</td>\n",
       "      <td>0.909091</td>\n",
       "      <td>0.909091</td>\n",
       "      <td>1.000000</td>\n",
       "      <td>0.886364</td>\n",
       "      <td>0.099066</td>\n",
       "      <td>4</td>\n",
       "    </tr>\n",
       "  </tbody>\n",
       "</table>\n",
       "</div>"
      ],
      "text/plain": [
       "   mean_fit_time  std_fit_time  mean_score_time  std_score_time  \\\n",
       "0       0.004417      0.001260         0.003736        0.000423   \n",
       "1       0.003344      0.000198         0.003084        0.000259   \n",
       "2       0.008546      0.008568         0.006446        0.006219   \n",
       "3       0.022629      0.028549         0.005435        0.002155   \n",
       "4       0.004683      0.000304         0.004403        0.000543   \n",
       "\n",
       "  param_kneighborsclassifier__n_neighbors  \\\n",
       "0                                       1   \n",
       "1                                       2   \n",
       "2                                       3   \n",
       "3                                       4   \n",
       "4                                       5   \n",
       "\n",
       "                                     params  split0_test_score  \\\n",
       "0  {'kneighborsclassifier__n_neighbors': 1}           0.818182   \n",
       "1  {'kneighborsclassifier__n_neighbors': 2}           0.727273   \n",
       "2  {'kneighborsclassifier__n_neighbors': 3}           0.909091   \n",
       "3  {'kneighborsclassifier__n_neighbors': 4}           0.727273   \n",
       "4  {'kneighborsclassifier__n_neighbors': 5}           0.727273   \n",
       "\n",
       "   split1_test_score  split2_test_score  split3_test_score  mean_test_score  \\\n",
       "0           0.818182           1.000000           1.000000         0.909091   \n",
       "1           0.818182           1.000000           1.000000         0.886364   \n",
       "2           0.909091           1.000000           0.909091         0.931818   \n",
       "3           1.000000           1.000000           1.000000         0.931818   \n",
       "4           0.909091           0.909091           1.000000         0.886364   \n",
       "\n",
       "   std_test_score  rank_test_score  \n",
       "0        0.090909                3  \n",
       "1        0.118094                4  \n",
       "2        0.039365                1  \n",
       "3        0.118094                1  \n",
       "4        0.099066                4  "
      ]
     },
     "execution_count": 12,
     "metadata": {},
     "output_type": "execute_result"
    }
   ],
   "source": [
    "np.random.seed(2020)  # DO NOT REMOVE\n",
    "\n",
    "# # 1. Setup pipeline object\n",
    "# fruit_tune_pipeline = make_pipeline(____, \n",
    "#                                     ____)\n",
    "# \n",
    "# # 2. Define parameter grid\n",
    "# parameter_grid = {\n",
    "#     ____: range(____, ____, ____),\n",
    "# }\n",
    "# \n",
    "# # 3. Create `GridSearchCV` object\n",
    "# fruit_tune_grid = GridSearchCV(\n",
    "#     estimator=____,\n",
    "#     param_grid=____,\n",
    "#     cv=____\n",
    "# )\n",
    "# \n",
    "# # 4. Fit `GridSearchCV` object\n",
    "# fruit_tune_grid.fit(\n",
    "#     ____,\n",
    "#     ____\n",
    "# )\n",
    "# \n",
    "# # 5. Convert results to data frame\n",
    "# fruit_vfold_score = pd.DataFrame(____)\n",
    "# ### BEGIN SOLUTION\n",
    "# 1. Setup pipeline object\n",
    "fruit_tune_pipeline = make_pipeline(fruit_preprocessor, \n",
    "                                    KNeighborsClassifier())\n",
    "\n",
    "# 2. Define parameter grid\n",
    "parameter_grid = {\n",
    "    \"kneighborsclassifier__n_neighbors\": range(1, 15, 1),\n",
    "}\n",
    "\n",
    "# 3. Create `GridSearchCV` object\n",
    "fruit_tune_grid = GridSearchCV(\n",
    "    estimator=fruit_tune_pipeline,\n",
    "    param_grid=parameter_grid,\n",
    "    cv=4\n",
    ")\n",
    "\n",
    "# 4. Fit `GridSearchCV` object\n",
    "fruit_tune_grid.fit(\n",
    "    fruit_train.drop(columns=['fruit_name']),\n",
    "    fruit_train['fruit_name']\n",
    ")\n",
    "\n",
    "# 5. Convert results to data frame\n",
    "fruit_vfold_score = pd.DataFrame(fruit_tune_grid.cv_results_)\n",
    "### END SOLUTION\n",
    "fruit_vfold_score.head()"
   ]
  },
  {
   "cell_type": "code",
   "execution_count": 13,
   "metadata": {},
   "outputs": [
    {
     "data": {
      "text/plain": [
       "rank_test_score\n",
       "4     3\n",
       "1     2\n",
       "9     2\n",
       "3     1\n",
       "7     1\n",
       "8     1\n",
       "12    1\n",
       "11    1\n",
       "14    1\n",
       "13    1\n",
       "Name: count, dtype: int64"
      ]
     },
     "execution_count": 13,
     "metadata": {},
     "output_type": "execute_result"
    }
   ],
   "source": [
    "fruit_vfold_score['rank_test_score'].value_counts()"
   ]
  },
  {
   "cell_type": "code",
   "execution_count": 14,
   "metadata": {},
   "outputs": [
    {
     "name": "stdout",
     "output_type": "stream",
     "text": [
      "Success!\n"
     ]
    }
   ],
   "source": [
    "# Run these tests to check your answer\n",
    "\n",
    "assert isinstance(fruit_vfold_score, pd.DataFrame), \"`fruit_test` is not a pandas DataFrame\"\n",
    "assert fruit_vfold_score.shape == (14, 13), f\"Expected shape (14, 13), but got {fruit_vfold_score.shape}\"\n",
    "expected_columns = {'mean_fit_time', 'std_fit_time', 'mean_score_time', 'std_score_time',\n",
    "       'param_kneighborsclassifier__n_neighbors', 'params',\n",
    "       'split0_test_score', 'split1_test_score', 'split2_test_score',\n",
    "       'split3_test_score', 'mean_test_score', 'std_test_score',\n",
    "       'rank_test_score'}\n",
    "actual_columns = set(fruit_vfold_score.columns)\n",
    "assert actual_columns == expected_columns, f\"Expected columns {expected_columns}, but got {actual_columns}\"\n",
    "\n",
    "np.testing.assert_array_equal(np.array([3, 2, 2, 1, 1, 1, 1, 1, 1, 1]), fruit_vfold_score['rank_test_score'].value_counts().values,\n",
    "                             err_msg='Something unexpected happened with the tuning of your classifier. Check your model and cross-validation specs.')\n",
    "assert fruit_vfold_score['rank_test_score'].value_counts().index.tolist() == [4, 1, 9, 3, 7, 8, 12, 11, 14, 13], 'Something unexpected happened with the tuning of your classifier. Check your model and cross-validation specs.'\n",
    "\n",
    "print('Success!')"
   ]
  },
  {
   "cell_type": "markdown",
   "metadata": {},
   "source": [
    "To make the results a bit easier to interpret, \n",
    "let's select just the columns we are interested in:\n",
    "\n",
    "- `param_kneighborsclassifier__n_neighbors`\n",
    "- `mean_test_score`"
   ]
  },
  {
   "cell_type": "code",
   "execution_count": 15,
   "metadata": {},
   "outputs": [
    {
     "data": {
      "text/html": [
       "<div>\n",
       "<style scoped>\n",
       "    .dataframe tbody tr th:only-of-type {\n",
       "        vertical-align: middle;\n",
       "    }\n",
       "\n",
       "    .dataframe tbody tr th {\n",
       "        vertical-align: top;\n",
       "    }\n",
       "\n",
       "    .dataframe thead th {\n",
       "        text-align: right;\n",
       "    }\n",
       "</style>\n",
       "<table border=\"1\" class=\"dataframe\">\n",
       "  <thead>\n",
       "    <tr style=\"text-align: right;\">\n",
       "      <th></th>\n",
       "      <th>param_kneighborsclassifier__n_neighbors</th>\n",
       "      <th>mean_test_score</th>\n",
       "    </tr>\n",
       "  </thead>\n",
       "  <tbody>\n",
       "    <tr>\n",
       "      <th>0</th>\n",
       "      <td>1</td>\n",
       "      <td>0.909091</td>\n",
       "    </tr>\n",
       "    <tr>\n",
       "      <th>1</th>\n",
       "      <td>2</td>\n",
       "      <td>0.886364</td>\n",
       "    </tr>\n",
       "    <tr>\n",
       "      <th>2</th>\n",
       "      <td>3</td>\n",
       "      <td>0.931818</td>\n",
       "    </tr>\n",
       "    <tr>\n",
       "      <th>3</th>\n",
       "      <td>4</td>\n",
       "      <td>0.931818</td>\n",
       "    </tr>\n",
       "    <tr>\n",
       "      <th>4</th>\n",
       "      <td>5</td>\n",
       "      <td>0.886364</td>\n",
       "    </tr>\n",
       "    <tr>\n",
       "      <th>5</th>\n",
       "      <td>6</td>\n",
       "      <td>0.886364</td>\n",
       "    </tr>\n",
       "    <tr>\n",
       "      <th>6</th>\n",
       "      <td>7</td>\n",
       "      <td>0.863636</td>\n",
       "    </tr>\n",
       "    <tr>\n",
       "      <th>7</th>\n",
       "      <td>8</td>\n",
       "      <td>0.795455</td>\n",
       "    </tr>\n",
       "    <tr>\n",
       "      <th>8</th>\n",
       "      <td>9</td>\n",
       "      <td>0.704545</td>\n",
       "    </tr>\n",
       "    <tr>\n",
       "      <th>9</th>\n",
       "      <td>10</td>\n",
       "      <td>0.704545</td>\n",
       "    </tr>\n",
       "    <tr>\n",
       "      <th>10</th>\n",
       "      <td>11</td>\n",
       "      <td>0.613636</td>\n",
       "    </tr>\n",
       "    <tr>\n",
       "      <th>11</th>\n",
       "      <td>12</td>\n",
       "      <td>0.636364</td>\n",
       "    </tr>\n",
       "    <tr>\n",
       "      <th>12</th>\n",
       "      <td>13</td>\n",
       "      <td>0.545455</td>\n",
       "    </tr>\n",
       "    <tr>\n",
       "      <th>13</th>\n",
       "      <td>14</td>\n",
       "      <td>0.590909</td>\n",
       "    </tr>\n",
       "  </tbody>\n",
       "</table>\n",
       "</div>"
      ],
      "text/plain": [
       "   param_kneighborsclassifier__n_neighbors  mean_test_score\n",
       "0                                        1         0.909091\n",
       "1                                        2         0.886364\n",
       "2                                        3         0.931818\n",
       "3                                        4         0.931818\n",
       "4                                        5         0.886364\n",
       "5                                        6         0.886364\n",
       "6                                        7         0.863636\n",
       "7                                        8         0.795455\n",
       "8                                        9         0.704545\n",
       "9                                       10         0.704545\n",
       "10                                      11         0.613636\n",
       "11                                      12         0.636364\n",
       "12                                      13         0.545455\n",
       "13                                      14         0.590909"
      ]
     },
     "execution_count": 15,
     "metadata": {},
     "output_type": "execute_result"
    }
   ],
   "source": [
    "# Run this cell to see a table of just the parameter values and\n",
    "# the mean cross-validation accuracy\n",
    "\n",
    "fruit_vfold_score[['param_kneighborsclassifier__n_neighbors',\n",
    "                  'mean_test_score']]"
   ]
  },
  {
   "cell_type": "markdown",
   "metadata": {},
   "source": [
    "### Visualizing a parameter's effect on model performance\n",
    "\n",
    "Visually inspecting the grid search results can help us find, \n",
    "and choose the best value for the number of neighbors parameter.\n",
    "\n",
    "Below, we use `altair` (a Python visualization library) \n",
    "to create a line plot using the `accuracies_grid` dataframe \n",
    "with `param_kneighborsclassifier__n_neighbors` on the x-axis \n",
    "and the `mean_test_score` on the y-axis. Use `point=True` to include a point for each value of $K$. "
   ]
  },
  {
   "cell_type": "code",
   "execution_count": 16,
   "metadata": {},
   "outputs": [
    {
     "data": {
      "text/html": [
       "\n",
       "<style>\n",
       "  #altair-viz-3fae73a451a94e7b90392e365d832a89.vega-embed {\n",
       "    width: 100%;\n",
       "    display: flex;\n",
       "  }\n",
       "\n",
       "  #altair-viz-3fae73a451a94e7b90392e365d832a89.vega-embed details,\n",
       "  #altair-viz-3fae73a451a94e7b90392e365d832a89.vega-embed details summary {\n",
       "    position: relative;\n",
       "  }\n",
       "</style>\n",
       "<div id=\"altair-viz-3fae73a451a94e7b90392e365d832a89\"></div>\n",
       "<script type=\"text/javascript\">\n",
       "  var VEGA_DEBUG = (typeof VEGA_DEBUG == \"undefined\") ? {} : VEGA_DEBUG;\n",
       "  (function(spec, embedOpt){\n",
       "    let outputDiv = document.currentScript.previousElementSibling;\n",
       "    if (outputDiv.id !== \"altair-viz-3fae73a451a94e7b90392e365d832a89\") {\n",
       "      outputDiv = document.getElementById(\"altair-viz-3fae73a451a94e7b90392e365d832a89\");\n",
       "    }\n",
       "    const paths = {\n",
       "      \"vega\": \"https://cdn.jsdelivr.net/npm/vega@5?noext\",\n",
       "      \"vega-lib\": \"https://cdn.jsdelivr.net/npm/vega-lib?noext\",\n",
       "      \"vega-lite\": \"https://cdn.jsdelivr.net/npm/vega-lite@5.15.1?noext\",\n",
       "      \"vega-embed\": \"https://cdn.jsdelivr.net/npm/vega-embed@6?noext\",\n",
       "    };\n",
       "\n",
       "    function maybeLoadScript(lib, version) {\n",
       "      var key = `${lib.replace(\"-\", \"\")}_version`;\n",
       "      return (VEGA_DEBUG[key] == version) ?\n",
       "        Promise.resolve(paths[lib]) :\n",
       "        new Promise(function(resolve, reject) {\n",
       "          var s = document.createElement('script');\n",
       "          document.getElementsByTagName(\"head\")[0].appendChild(s);\n",
       "          s.async = true;\n",
       "          s.onload = () => {\n",
       "            VEGA_DEBUG[key] = version;\n",
       "            return resolve(paths[lib]);\n",
       "          };\n",
       "          s.onerror = () => reject(`Error loading script: ${paths[lib]}`);\n",
       "          s.src = paths[lib];\n",
       "        });\n",
       "    }\n",
       "\n",
       "    function showError(err) {\n",
       "      outputDiv.innerHTML = `<div class=\"error\" style=\"color:red;\">${err}</div>`;\n",
       "      throw err;\n",
       "    }\n",
       "\n",
       "    function displayChart(vegaEmbed) {\n",
       "      vegaEmbed(outputDiv, spec, embedOpt)\n",
       "        .catch(err => showError(`Javascript Error: ${err.message}<br>This usually means there's a typo in your chart specification. See the javascript console for the full traceback.`));\n",
       "    }\n",
       "\n",
       "    if(typeof define === \"function\" && define.amd) {\n",
       "      requirejs.config({paths});\n",
       "      require([\"vega-embed\"], displayChart, err => showError(`Error loading script: ${err.message}`));\n",
       "    } else {\n",
       "      maybeLoadScript(\"vega\", \"5\")\n",
       "        .then(() => maybeLoadScript(\"vega-lite\", \"5.15.1\"))\n",
       "        .then(() => maybeLoadScript(\"vega-embed\", \"6\"))\n",
       "        .catch(showError)\n",
       "        .then(() => displayChart(vegaEmbed));\n",
       "    }\n",
       "  })({\"config\": {\"view\": {\"continuousWidth\": 300, \"continuousHeight\": 300}}, \"data\": {\"name\": \"data-7fc438756b4b2078cab5ca734386bf62\"}, \"mark\": {\"type\": \"line\", \"point\": true}, \"encoding\": {\"x\": {\"field\": \"param_kneighborsclassifier__n_neighbors\", \"scale\": {\"zero\": false}, \"title\": \"Neighbors\", \"type\": \"quantitative\"}, \"y\": {\"field\": \"mean_test_score\", \"scale\": {\"zero\": false}, \"title\": \"Mean Test Score\", \"type\": \"quantitative\"}}, \"$schema\": \"https://vega.github.io/schema/vega-lite/v5.15.1.json\", \"datasets\": {\"data-7fc438756b4b2078cab5ca734386bf62\": [{\"mean_fit_time\": 0.004416704177856445, \"std_fit_time\": 0.0012599467969529943, \"mean_score_time\": 0.0037357211112976074, \"std_score_time\": 0.0004230258630159019, \"param_kneighborsclassifier__n_neighbors\": 1, \"params\": {\"kneighborsclassifier__n_neighbors\": 1}, \"split0_test_score\": 0.8181818181818182, \"split1_test_score\": 0.8181818181818182, \"split2_test_score\": 1.0, \"split3_test_score\": 1.0, \"mean_test_score\": 0.9090909090909092, \"std_test_score\": 0.09090909090909088, \"rank_test_score\": 3}, {\"mean_fit_time\": 0.0033440589904785156, \"std_fit_time\": 0.0001978873488414588, \"mean_score_time\": 0.0030840039253234863, \"std_score_time\": 0.00025941022676615345, \"param_kneighborsclassifier__n_neighbors\": 2, \"params\": {\"kneighborsclassifier__n_neighbors\": 2}, \"split0_test_score\": 0.7272727272727273, \"split1_test_score\": 0.8181818181818182, \"split2_test_score\": 1.0, \"split3_test_score\": 1.0, \"mean_test_score\": 0.8863636363636364, \"std_test_score\": 0.11809437324333252, \"rank_test_score\": 4}, {\"mean_fit_time\": 0.008545517921447754, \"std_fit_time\": 0.008567770869146809, \"mean_score_time\": 0.006445527076721191, \"std_score_time\": 0.006219255380617454, \"param_kneighborsclassifier__n_neighbors\": 3, \"params\": {\"kneighborsclassifier__n_neighbors\": 3}, \"split0_test_score\": 0.9090909090909091, \"split1_test_score\": 0.9090909090909091, \"split2_test_score\": 1.0, \"split3_test_score\": 0.9090909090909091, \"mean_test_score\": 0.9318181818181819, \"std_test_score\": 0.039364791081110864, \"rank_test_score\": 1}, {\"mean_fit_time\": 0.02262943983078003, \"std_fit_time\": 0.028549451563672074, \"mean_score_time\": 0.005435049533843994, \"std_score_time\": 0.0021552677263254856, \"param_kneighborsclassifier__n_neighbors\": 4, \"params\": {\"kneighborsclassifier__n_neighbors\": 4}, \"split0_test_score\": 0.7272727272727273, \"split1_test_score\": 1.0, \"split2_test_score\": 1.0, \"split3_test_score\": 1.0, \"mean_test_score\": 0.9318181818181819, \"std_test_score\": 0.11809437324333252, \"rank_test_score\": 1}, {\"mean_fit_time\": 0.0046828389167785645, \"std_fit_time\": 0.0003040374154407276, \"mean_score_time\": 0.004403293132781982, \"std_score_time\": 0.0005427255917872488, \"param_kneighborsclassifier__n_neighbors\": 5, \"params\": {\"kneighborsclassifier__n_neighbors\": 5}, \"split0_test_score\": 0.7272727272727273, \"split1_test_score\": 0.9090909090909091, \"split2_test_score\": 0.9090909090909091, \"split3_test_score\": 1.0, \"mean_test_score\": 0.8863636363636364, \"std_test_score\": 0.09906588508046985, \"rank_test_score\": 4}, {\"mean_fit_time\": 0.0044321417808532715, \"std_fit_time\": 0.00010141080031312174, \"mean_score_time\": 0.003961145877838135, \"std_score_time\": 8.672627385443735e-05, \"param_kneighborsclassifier__n_neighbors\": 6, \"params\": {\"kneighborsclassifier__n_neighbors\": 6}, \"split0_test_score\": 0.7272727272727273, \"split1_test_score\": 1.0, \"split2_test_score\": 0.8181818181818182, \"split3_test_score\": 1.0, \"mean_test_score\": 0.8863636363636364, \"std_test_score\": 0.11809437324333254, \"rank_test_score\": 4}, {\"mean_fit_time\": 0.0035100579261779785, \"std_fit_time\": 0.0001643896859309221, \"mean_score_time\": 0.003014981746673584, \"std_score_time\": 0.0002073489507013046, \"param_kneighborsclassifier__n_neighbors\": 7, \"params\": {\"kneighborsclassifier__n_neighbors\": 7}, \"split0_test_score\": 0.7272727272727273, \"split1_test_score\": 1.0, \"split2_test_score\": 0.8181818181818182, \"split3_test_score\": 0.9090909090909091, \"mean_test_score\": 0.8636363636363636, \"std_test_score\": 0.1016394535227177, \"rank_test_score\": 7}, {\"mean_fit_time\": 0.0029775500297546387, \"std_fit_time\": 7.353993439123903e-05, \"mean_score_time\": 0.0026964545249938965, \"std_score_time\": 2.778490830810262e-05, \"param_kneighborsclassifier__n_neighbors\": 8, \"params\": {\"kneighborsclassifier__n_neighbors\": 8}, \"split0_test_score\": 0.6363636363636364, \"split1_test_score\": 0.9090909090909091, \"split2_test_score\": 0.8181818181818182, \"split3_test_score\": 0.8181818181818182, \"mean_test_score\": 0.7954545454545455, \"std_test_score\": 0.09906588508046986, \"rank_test_score\": 8}, {\"mean_fit_time\": 0.002926766872406006, \"std_fit_time\": 4.483961200721128e-05, \"mean_score_time\": 0.0026482343673706055, \"std_score_time\": 2.8882125472034734e-06, \"param_kneighborsclassifier__n_neighbors\": 9, \"params\": {\"kneighborsclassifier__n_neighbors\": 9}, \"split0_test_score\": 0.5454545454545454, \"split1_test_score\": 0.7272727272727273, \"split2_test_score\": 0.8181818181818182, \"split3_test_score\": 0.7272727272727273, \"mean_test_score\": 0.7045454545454546, \"std_test_score\": 0.09906588508046989, \"rank_test_score\": 9}, {\"mean_fit_time\": 0.0029594898223876953, \"std_fit_time\": 6.657153092556506e-05, \"mean_score_time\": 0.002703547477722168, \"std_score_time\": 4.539370159569503e-05, \"param_kneighborsclassifier__n_neighbors\": 10, \"params\": {\"kneighborsclassifier__n_neighbors\": 10}, \"split0_test_score\": 0.5454545454545454, \"split1_test_score\": 0.8181818181818182, \"split2_test_score\": 0.7272727272727273, \"split3_test_score\": 0.7272727272727273, \"mean_test_score\": 0.7045454545454546, \"std_test_score\": 0.09906588508046989, \"rank_test_score\": 9}, {\"mean_fit_time\": 0.0028884410858154297, \"std_fit_time\": 2.475136252355329e-05, \"mean_score_time\": 0.0025690793991088867, \"std_score_time\": 0.00010566657899813957, \"param_kneighborsclassifier__n_neighbors\": 11, \"params\": {\"kneighborsclassifier__n_neighbors\": 11}, \"split0_test_score\": 0.5454545454545454, \"split1_test_score\": 0.5454545454545454, \"split2_test_score\": 0.7272727272727273, \"split3_test_score\": 0.6363636363636364, \"mean_test_score\": 0.6136363636363636, \"std_test_score\": 0.07537783614444094, \"rank_test_score\": 12}, {\"mean_fit_time\": 0.00253373384475708, \"std_fit_time\": 6.266018900142871e-05, \"mean_score_time\": 0.0022733211517333984, \"std_score_time\": 1.1030563814763031e-05, \"param_kneighborsclassifier__n_neighbors\": 12, \"params\": {\"kneighborsclassifier__n_neighbors\": 12}, \"split0_test_score\": 0.5454545454545454, \"split1_test_score\": 0.6363636363636364, \"split2_test_score\": 0.7272727272727273, \"split3_test_score\": 0.6363636363636364, \"mean_test_score\": 0.6363636363636364, \"std_test_score\": 0.06428243465332252, \"rank_test_score\": 11}, {\"mean_fit_time\": 0.002505183219909668, \"std_fit_time\": 1.5464620072996766e-05, \"mean_score_time\": 0.0022730231285095215, \"std_score_time\": 1.1038773775613775e-05, \"param_kneighborsclassifier__n_neighbors\": 13, \"params\": {\"kneighborsclassifier__n_neighbors\": 13}, \"split0_test_score\": 0.5454545454545454, \"split1_test_score\": 0.6363636363636364, \"split2_test_score\": 0.5454545454545454, \"split3_test_score\": 0.45454545454545453, \"mean_test_score\": 0.5454545454545454, \"std_test_score\": 0.0642824346533225, \"rank_test_score\": 14}, {\"mean_fit_time\": 0.002516031265258789, \"std_fit_time\": 4.690881756995489e-05, \"mean_score_time\": 0.0022619962692260742, \"std_score_time\": 2.984996801745633e-06, \"param_kneighborsclassifier__n_neighbors\": 14, \"params\": {\"kneighborsclassifier__n_neighbors\": 14}, \"split0_test_score\": 0.5454545454545454, \"split1_test_score\": 0.6363636363636364, \"split2_test_score\": 0.5454545454545454, \"split3_test_score\": 0.6363636363636364, \"mean_test_score\": 0.5909090909090908, \"std_test_score\": 0.04545454545454547, \"rank_test_score\": 13}]}}, {\"mode\": \"vega-lite\"});\n",
       "</script>"
      ],
      "text/plain": [
       "alt.Chart(...)"
      ]
     },
     "execution_count": 16,
     "metadata": {},
     "output_type": "execute_result"
    }
   ],
   "source": [
    "# Run this cell to visualize the parameters vs mean cross-validation accuracy \n",
    "# as a line chart\n",
    "\n",
    "accuracy_versus_k_grid = alt.Chart(fruit_vfold_score).mark_line(point=True).encode(\n",
    "    x=alt.X(\"param_kneighborsclassifier__n_neighbors\")\n",
    "        .title(\"Neighbors\")\n",
    "        .scale(zero=False),\n",
    "    y=alt.Y(\"mean_test_score\")\n",
    "        .title(\"Mean Test Score\")\n",
    "        .scale(zero=False)\n",
    ")\n",
    "\n",
    "accuracy_versus_k_grid"
   ]
  },
  {
   "cell_type": "markdown",
   "metadata": {},
   "source": [
    "## 6. Understanding prediction errors\n",
    "\n",
    "Now, let's look at the *confusion matrix* for the classifier. This will show us a table comparing the predicted labels with the true labels. \n",
    "\n",
    "Although we can create a confusion matrix by using the `crosstab` function from `pandas`, with many observations, it can be difficult to interpret the confusion matrix when it is presented as a table like above. In these cases, we could instead use the `ConfusionMatrixDisplay` function of the `scikit-learn` package to visualize the confusion matrix as a heatmap. Please run the cell below to see the fruit confusion matrix as a heatmap. "
   ]
  },
  {
   "cell_type": "code",
   "execution_count": 17,
   "metadata": {
    "scrolled": true
   },
   "outputs": [
    {
     "data": {
      "text/plain": [
       "<sklearn.metrics._plot.confusion_matrix.ConfusionMatrixDisplay at 0x151cf3a90>"
      ]
     },
     "execution_count": 17,
     "metadata": {},
     "output_type": "execute_result"
    },
    {
     "data": {
      "image/png": "[encoded data removed]",
      "text/plain": [
       "<Figure size 640x480 with 2 Axes>"
      ]
     },
     "metadata": {},
     "output_type": "display_data"
    }
   ],
   "source": [
    "ConfusionMatrixDisplay.from_estimator(\n",
    "    estimator=fruit_tune_grid,  # We are directly passing the pipeline and let sklearn do the predictions for us\n",
    "    X=fruit_train.drop(columns=['fruit_name']),\n",
    "    y=fruit_train['fruit_name']\n",
    ")"
   ]
  },
  {
   "cell_type": "markdown",
   "metadata": {},
   "source": [
    "What mistakes is it making? \n",
    "Revisit the pairwise scatter plot you created after question 2, \n",
    "can you guess why its making these mistakes? \n",
    "Do you have any ideas of what you could do to improve the model\n",
    "(hint, think about the data)?"
   ]
  },
  {
   "cell_type": "markdown",
   "metadata": {},
   "source": [
    "## Model generalizability\n",
    "\n",
    "Once you have finished selecting your single, final model (**and only then!**) you may wish to estimate how well your model will generalize to unseen data. You have kept your test set for just that purpose, and that purpose alone. "
   ]
  },
  {
   "cell_type": "markdown",
   "metadata": {},
   "source": [
    "### Question 4\n",
    "\n",
    "The first step in assessing model generalizability is to use your model to predict labels for the test set observations. To do this with Python, use `predict` on the `fruit_tune_grid` object (that contains your trained model) to add a column named `predicted` to the `fruit_test` data frame. By default, scikit-learn will use the \"best estimator\", here $K$ with the highest accuracy, to do this. \n",
    "To help you out, we have put a scaffold of the code in the cell below. Your job is to fill in the blanks with the correct values.\n",
    "\n",
    "*Assign your answer to an object called `fruit_test_w_predictions`.*"
   ]
  },
  {
   "cell_type": "code",
   "execution_count": 18,
   "metadata": {},
   "outputs": [
    {
     "data": {
      "text/html": [
       "<div>\n",
       "<style scoped>\n",
       "    .dataframe tbody tr th:only-of-type {\n",
       "        vertical-align: middle;\n",
       "    }\n",
       "\n",
       "    .dataframe tbody tr th {\n",
       "        vertical-align: top;\n",
       "    }\n",
       "\n",
       "    .dataframe thead th {\n",
       "        text-align: right;\n",
       "    }\n",
       "</style>\n",
       "<table border=\"1\" class=\"dataframe\">\n",
       "  <thead>\n",
       "    <tr style=\"text-align: right;\">\n",
       "      <th></th>\n",
       "      <th>fruit_label</th>\n",
       "      <th>fruit_name</th>\n",
       "      <th>fruit_subtype</th>\n",
       "      <th>mass</th>\n",
       "      <th>width</th>\n",
       "      <th>height</th>\n",
       "      <th>color_score</th>\n",
       "      <th>predicted</th>\n",
       "    </tr>\n",
       "  </thead>\n",
       "  <tbody>\n",
       "    <tr>\n",
       "      <th>49</th>\n",
       "      <td>4</td>\n",
       "      <td>lemon</td>\n",
       "      <td>unknown</td>\n",
       "      <td>132</td>\n",
       "      <td>5.8</td>\n",
       "      <td>8.7</td>\n",
       "      <td>0.73</td>\n",
       "      <td>lemon</td>\n",
       "    </tr>\n",
       "    <tr>\n",
       "      <th>11</th>\n",
       "      <td>1</td>\n",
       "      <td>apple</td>\n",
       "      <td>braeburn</td>\n",
       "      <td>172</td>\n",
       "      <td>7.1</td>\n",
       "      <td>7.6</td>\n",
       "      <td>0.92</td>\n",
       "      <td>apple</td>\n",
       "    </tr>\n",
       "    <tr>\n",
       "      <th>42</th>\n",
       "      <td>3</td>\n",
       "      <td>orange</td>\n",
       "      <td>turkey_navel</td>\n",
       "      <td>154</td>\n",
       "      <td>7.2</td>\n",
       "      <td>7.2</td>\n",
       "      <td>0.82</td>\n",
       "      <td>orange</td>\n",
       "    </tr>\n",
       "    <tr>\n",
       "      <th>21</th>\n",
       "      <td>1</td>\n",
       "      <td>apple</td>\n",
       "      <td>cripps_pink</td>\n",
       "      <td>156</td>\n",
       "      <td>7.4</td>\n",
       "      <td>7.4</td>\n",
       "      <td>0.84</td>\n",
       "      <td>apple</td>\n",
       "    </tr>\n",
       "    <tr>\n",
       "      <th>38</th>\n",
       "      <td>3</td>\n",
       "      <td>orange</td>\n",
       "      <td>turkey_navel</td>\n",
       "      <td>158</td>\n",
       "      <td>7.2</td>\n",
       "      <td>7.8</td>\n",
       "      <td>0.77</td>\n",
       "      <td>orange</td>\n",
       "    </tr>\n",
       "  </tbody>\n",
       "</table>\n",
       "</div>"
      ],
      "text/plain": [
       "    fruit_label fruit_name fruit_subtype  mass  width  height  color_score  \\\n",
       "49            4      lemon       unknown   132    5.8     8.7         0.73   \n",
       "11            1      apple      braeburn   172    7.1     7.6         0.92   \n",
       "42            3     orange  turkey_navel   154    7.2     7.2         0.82   \n",
       "21            1      apple   cripps_pink   156    7.4     7.4         0.84   \n",
       "38            3     orange  turkey_navel   158    7.2     7.8         0.77   \n",
       "\n",
       "   predicted  \n",
       "49     lemon  \n",
       "11     apple  \n",
       "42    orange  \n",
       "21     apple  \n",
       "38    orange  "
      ]
     },
     "execution_count": 18,
     "metadata": {},
     "output_type": "execute_result"
    }
   ],
   "source": [
    "# Make a deep copy of `fruit_test` and name it `fruit_test_w_predictions`\n",
    "fruit_test_w_predictions = fruit_test.copy()\n",
    "\n",
    "# Use trained classifier to predict labels for test data\n",
    "\n",
    "# fruit_test_w_predictions['predicted'] = fruit_tune_grid.predict(\n",
    "#     ____)\n",
    "# )\n",
    "### BEGIN SOLUTION\n",
    "fruit_test_w_predictions['predicted'] = fruit_tune_grid.predict(\n",
    "    fruit_test_w_predictions.drop(columns=['fruit_name'])\n",
    ")\n",
    "### END SOLUTION\n",
    "fruit_test_w_predictions.head()"
   ]
  },
  {
   "cell_type": "code",
   "execution_count": 19,
   "metadata": {},
   "outputs": [
    {
     "name": "stdout",
     "output_type": "stream",
     "text": [
      "Success!\n"
     ]
    }
   ],
   "source": [
    "# Run these tests to check your answer\n",
    "\n",
    "assert isinstance(fruit_test_w_predictions, pd.DataFrame), '`fruit_test_w_predictions` is not a pandas DataFrame'\n",
    "assert fruit_test_w_predictions.shape == (15, 8), f\"Expected shape (15, 8), but got {fruit_test_w_predictions.shape}\"\n",
    "expected_columns = {'fruit_label', 'fruit_name', 'fruit_subtype', 'mass', 'width', 'height', 'color_score', 'predicted'}\n",
    "actual_columns = set(fruit_test_w_predictions.columns)\n",
    "assert actual_columns == expected_columns, f\"Expected columns {expected_columns}, but got {actual_columns}\"\n",
    "np.testing.assert_array_equal(np.array([5, 5, 4, 1]), fruit_test_w_predictions['predicted'].value_counts().values,\n",
    "                             err_msg='Some unexpected predictions were made from your classifier.')\n",
    "assert fruit_test_w_predictions['predicted'].value_counts().index.tolist() == ['apple', 'orange', 'lemon', 'mandarin'], 'Some unexpected predictions were made from your classifier.'\n",
    "\n",
    "print('Success!')"
   ]
  },
  {
   "cell_type": "markdown",
   "metadata": {},
   "source": [
    "### Question 5\n",
    "\n",
    "Next, we can calculate our prediction metrics on the test set, as well a compute and visualize a confusion matrix. We typically expect some drop in performance from what we observed in our training set (because we used that set to train the model), but ideally the model performs similarly. \n",
    "\n",
    "Use Python to calculate accuracy, weighted precision and weighted recall for the test set. To help you out, we have put a scaffold of the code in the cell below. Your job is to fill in the blanks with the correct values. Name your objects for accuracy, weighted precision and weighted recall `accuracy`, `weighted_precision` and `weighted_recall`, respectively.\n",
    "\n",
    "> *Note: given we have many categories, we want to know the weighted average precision and recall instead of calculating it for just one class.*"
   ]
  },
  {
   "cell_type": "code",
   "execution_count": 20,
   "metadata": {},
   "outputs": [
    {
     "data": {
      "text/plain": [
       "numpy.float64"
      ]
     },
     "execution_count": 20,
     "metadata": {},
     "output_type": "execute_result"
    }
   ],
   "source": [
    "# Calculate accuracy for the test set\n",
    "\n",
    "# accuracy = fruit_tune_grid.score(\n",
    "#     X=____,\n",
    "#     y=____\n",
    "# )\n",
    "### BEGIN SOLUTION\n",
    "accuracy = fruit_tune_grid.score(\n",
    "    fruit_test_w_predictions.drop(columns=['fruit_name']),\n",
    "    fruit_test_w_predictions['fruit_name']\n",
    ")\n",
    "### END SOLUTION\n",
    "accuracy\n",
    "type(accuracy)"
   ]
  },
  {
   "cell_type": "code",
   "execution_count": 21,
   "metadata": {},
   "outputs": [
    {
     "data": {
      "text/plain": [
       "1.0"
      ]
     },
     "execution_count": 21,
     "metadata": {},
     "output_type": "execute_result"
    }
   ],
   "source": [
    "# Calculate weighted precision for the test set\n",
    "\n",
    "# weighted_precision = precision_score(\n",
    "#     y_true=____,\n",
    "#     y_pred=____,\n",
    "#     average='weighted'\n",
    "# )\n",
    "### BEGIN SOLUTION\n",
    "weighted_precision = precision_score(\n",
    "    y_true=fruit_test_w_predictions['fruit_name'],\n",
    "    y_pred=fruit_test_w_predictions[\"predicted\"],\n",
    "    average='weighted'\n",
    ")\n",
    "### END SOLUTION\n",
    "weighted_precision"
   ]
  },
  {
   "cell_type": "code",
   "execution_count": 22,
   "metadata": {},
   "outputs": [
    {
     "data": {
      "text/plain": [
       "1.0"
      ]
     },
     "execution_count": 22,
     "metadata": {},
     "output_type": "execute_result"
    }
   ],
   "source": [
    "# Calculate weighted recall for the test set\n",
    "\n",
    "# weighted_recall = recall_score(\n",
    "#     y_true=____,\n",
    "#     y_pred=____,\n",
    "#     average='weighted'\n",
    "# )\n",
    "### BEGIN SOLUTION\n",
    "weighted_recall = recall_score(\n",
    "    y_true=fruit_test_w_predictions['fruit_name'],\n",
    "    y_pred=fruit_test_w_predictions[\"predicted\"],\n",
    "    average='weighted'\n",
    ")\n",
    "### END SOLUTION\n",
    "weighted_recall"
   ]
  },
  {
   "cell_type": "code",
   "execution_count": 23,
   "metadata": {},
   "outputs": [
    {
     "name": "stdout",
     "output_type": "stream",
     "text": [
      "Success!\n"
     ]
    }
   ],
   "source": [
    "# Run these tests to check your answer\n",
    "\n",
    "# Check accuracy\n",
    "assert type(accuracy) == np.float64, '`accuracy` should be a single value, of type `numpy.float64`.'\n",
    "assert accuracy == 1, '`accuracy` value is incorrect'\n",
    "\n",
    "# Check weighted precision\n",
    "assert type(weighted_precision) == np.float64, '`weighted_precision` should be a single value, of type `numpy.float64`.'\n",
    "assert weighted_precision == 1, '`weighted_precision` value is incorrect'\n",
    "\n",
    "# Check weighted recall\n",
    "assert type(weighted_recall) == np.float64, '`weighted_recall` should be a single value, of type `numpy.float64`.'\n",
    "assert weighted_recall == 1, '`weighted_recall` value is incorrect'\n",
    "\n",
    "print('Success!')"
   ]
  },
  {
   "cell_type": "code",
   "execution_count": 24,
   "metadata": {},
   "outputs": [
    {
     "data": {
      "text/plain": [
       "<sklearn.metrics._plot.confusion_matrix.ConfusionMatrixDisplay at 0x151c00a90>"
      ]
     },
     "execution_count": 24,
     "metadata": {},
     "output_type": "execute_result"
    },
    {
     "data": {
      "image/png": "[encoded data removed]",
      "text/plain": [
       "<Figure size 640x480 with 2 Axes>"
      ]
     },
     "metadata": {},
     "output_type": "display_data"
    }
   ],
   "source": [
    "# Visualize prediction performance as a confusion matrix\n",
    "\n",
    "# ConfusionMatrixDisplay.from_estimator(\n",
    "#     estimator=____\n",
    "#     X=____,\n",
    "#     y=____\n",
    "# )\n",
    "### BEGIN SOLUTION\n",
    "ConfusionMatrixDisplay.from_estimator(\n",
    "    estimator=fruit_tune_grid,\n",
    "    X=fruit_test_w_predictions.drop(columns=['fruit_name']),\n",
    "    y=fruit_test_w_predictions['fruit_name']\n",
    ")\n",
    "### END SOLUTION"
   ]
  },
  {
   "cell_type": "markdown",
   "metadata": {},
   "source": [
    "Hmmm... no mistakes on the test set... Why might that be?"
   ]
  }
 ],
 "metadata": {
  "jupytext": {
   "encoding": "# -*- coding: utf-8 -*-"
  },
  "kernelspec": {
   "display_name": "Python 3 (ipykernel)",
   "language": "python",
   "name": "python3"
  },
  "language_info": {
   "codemirror_mode": {
    "name": "ipython",
    "version": 3
   },
   "file_extension": ".py",
   "mimetype": "text/x-python",
   "name": "python",
   "nbconvert_exporter": "python",
   "pygments_lexer": "ipython3",
   "version": "3.12.5"
  }
 },
 "nbformat": 4,
 "nbformat_minor": 4
}
